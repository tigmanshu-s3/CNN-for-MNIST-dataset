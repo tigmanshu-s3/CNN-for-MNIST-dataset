{
  "nbformat": 4,
  "nbformat_minor": 0,
  "metadata": {
    "colab": {
      "provenance": [],
      "authorship_tag": "ABX9TyPjkKC5vbqAB7jGyqaC32M1",
      "include_colab_link": true
    },
    "kernelspec": {
      "name": "python3",
      "display_name": "Python 3"
    },
    "language_info": {
      "name": "python"
    }
  },
  "cells": [
    {
      "cell_type": "markdown",
      "metadata": {
        "id": "view-in-github",
        "colab_type": "text"
      },
      "source": [
        "<a href=\"https://colab.research.google.com/github/tigmanshu-s3/CNN-for-MNIST-dataset/blob/main/CNN_model.ipynb\" target=\"_parent\"><img src=\"https://colab.research.google.com/assets/colab-badge.svg\" alt=\"Open In Colab\"/></a>"
      ]
    },
    {
      "cell_type": "markdown",
      "source": [
        "# CNN model for handwritten digit clasification using MNIST Dataset"
      ],
      "metadata": {
        "id": "fyvsvMi0omYn"
      }
    },
    {
      "cell_type": "code",
      "source": [
        "import keras\n",
        "from keras.datasets import mnist\n",
        "from keras.models import Sequential\n",
        "from keras.layers import Dense, Dropout, Flatten\n",
        "from keras.layers import Conv2D, MaxPooling2D\n",
        "from keras import backend as K\n",
        "\n",
        "# the data, split between train and test sets\n",
        "(x_train, y_train), (x_test, y_test) = mnist.load_data()\n",
        "\n",
        "print(x_train.shape, y_train.shape)"
      ],
      "metadata": {
        "colab": {
          "base_uri": "https://localhost:8080/"
        },
        "id": "JFO9Z5ecn9Mk",
        "outputId": "633b380d-cf48-4de9-f092-fa68d3139641"
      },
      "execution_count": 2,
      "outputs": [
        {
          "output_type": "stream",
          "name": "stdout",
          "text": [
            "(60000, 28, 28) (60000,)\n"
          ]
        }
      ]
    },
    {
      "cell_type": "markdown",
      "source": [
        "Reshaping the MNIST dataset"
      ],
      "metadata": {
        "id": "8H7tdC-xo9Pa"
      }
    },
    {
      "cell_type": "code",
      "source": [
        "x_train = x_train.reshape(x_train.shape[0], 28, 28, 1)\n",
        "x_test = x_test.reshape(x_test.shape[0], 28, 28, 1)\n",
        "input_shape = (28, 28, 1)\n",
        "\n",
        "y_train = keras.utils.to_categorical(y_train, 10)\n",
        "y_test = keras.utils.to_categorical(y_test, 10)\n",
        "\n",
        "x_train = x_train.astype('float32')\n",
        "x_test = x_test.astype('float32')\n",
        "x_train /= 255\n",
        "x_test /= 255\n",
        "print('x_train shape:', x_train.shape)\n",
        "print(x_train.shape[0], 'train samples')\n",
        "print(x_test.shape[0], 'test samples')"
      ],
      "metadata": {
        "colab": {
          "base_uri": "https://localhost:8080/"
        },
        "id": "wpqHu-H6oADP",
        "outputId": "f75a0a86-2d8e-4057-d095-fa83d1225aa7"
      },
      "execution_count": 3,
      "outputs": [
        {
          "output_type": "stream",
          "name": "stdout",
          "text": [
            "x_train shape: (60000, 28, 28, 1)\n",
            "60000 train samples\n",
            "10000 test samples\n"
          ]
        }
      ]
    },
    {
      "cell_type": "code",
      "source": [
        "batch_size = 128\n",
        "num_classes = 10\n",
        "epochs = 10"
      ],
      "metadata": {
        "id": "iG9EIQJLoEIG"
      },
      "execution_count": 4,
      "outputs": []
    },
    {
      "cell_type": "markdown",
      "source": [
        "Building the model"
      ],
      "metadata": {
        "id": "qoCkWso1pMQM"
      }
    },
    {
      "cell_type": "code",
      "source": [
        "model = Sequential()\n",
        "model.add(Conv2D(32, kernel_size=(5, 5),activation='relu',input_shape=input_shape))\n",
        "model.add(MaxPooling2D(pool_size=(2, 2)))\n",
        "model.add(Conv2D(64, (3, 3), activation='relu'))\n",
        "model.add(MaxPooling2D(pool_size=(2, 2)))\n",
        "model.add(Flatten())\n",
        "model.add(Dense(128, activation='relu'))\n",
        "model.add(Dropout(0.3))\n",
        "model.add(Dense(64, activation='relu'))\n",
        "model.add(Dropout(0.5))\n",
        "model.add(Dense(num_classes, activation='softmax'))\n",
        "\n",
        "model.compile(loss=keras.losses.categorical_crossentropy,optimizer=keras.optimizers.Adam(),metrics=['accuracy'])\n",
        "\n",
        "hist = model.fit(x_train, y_train,batch_size=batch_size,epochs=epochs,verbose=1,validation_data=(x_test, y_test))\n",
        "print(\"The model has successfully trained\")"
      ],
      "metadata": {
        "colab": {
          "base_uri": "https://localhost:8080/"
        },
        "id": "sg4t4lB7oI0W",
        "outputId": "0798b242-63e5-41dc-efb6-ed75e2ebeffc"
      },
      "execution_count": 5,
      "outputs": [
        {
          "output_type": "stream",
          "name": "stdout",
          "text": [
            "Epoch 1/10\n",
            "469/469 [==============================] - 48s 100ms/step - loss: 0.4077 - accuracy: 0.8733 - val_loss: 0.0568 - val_accuracy: 0.9823\n",
            "Epoch 2/10\n",
            "469/469 [==============================] - 47s 99ms/step - loss: 0.1159 - accuracy: 0.9693 - val_loss: 0.0361 - val_accuracy: 0.9880\n",
            "Epoch 3/10\n",
            "469/469 [==============================] - 46s 97ms/step - loss: 0.0819 - accuracy: 0.9785 - val_loss: 0.0368 - val_accuracy: 0.9890\n",
            "Epoch 4/10\n",
            "469/469 [==============================] - 45s 97ms/step - loss: 0.0651 - accuracy: 0.9833 - val_loss: 0.0323 - val_accuracy: 0.9899\n",
            "Epoch 5/10\n",
            "469/469 [==============================] - 48s 103ms/step - loss: 0.0559 - accuracy: 0.9856 - val_loss: 0.0293 - val_accuracy: 0.9903\n",
            "Epoch 6/10\n",
            "469/469 [==============================] - 44s 95ms/step - loss: 0.0480 - accuracy: 0.9877 - val_loss: 0.0270 - val_accuracy: 0.9914\n",
            "Epoch 7/10\n",
            "469/469 [==============================] - 45s 96ms/step - loss: 0.0432 - accuracy: 0.9894 - val_loss: 0.0290 - val_accuracy: 0.9907\n",
            "Epoch 8/10\n",
            "469/469 [==============================] - 45s 97ms/step - loss: 0.0379 - accuracy: 0.9898 - val_loss: 0.0280 - val_accuracy: 0.9928\n",
            "Epoch 9/10\n",
            "469/469 [==============================] - 45s 96ms/step - loss: 0.0341 - accuracy: 0.9911 - val_loss: 0.0276 - val_accuracy: 0.9923\n",
            "Epoch 10/10\n",
            "469/469 [==============================] - 45s 96ms/step - loss: 0.0300 - accuracy: 0.9921 - val_loss: 0.0293 - val_accuracy: 0.9914\n",
            "The model has successfully trained\n"
          ]
        }
      ]
    },
    {
      "cell_type": "code",
      "source": [
        "score = model.evaluate(x_test, y_test, verbose=0)\n",
        "print('Test loss:', score[0])\n",
        "print('Test accuracy:', score[1])\n"
      ],
      "metadata": {
        "colab": {
          "base_uri": "https://localhost:8080/"
        },
        "id": "uMuZsFbEoZ1q",
        "outputId": "6f4987d5-791c-46d1-b628-a2704bd553d8"
      },
      "execution_count": 6,
      "outputs": [
        {
          "output_type": "stream",
          "name": "stdout",
          "text": [
            "Test loss: 0.02925099804997444\n",
            "Test accuracy: 0.9914000034332275\n"
          ]
        }
      ]
    }
  ]
}